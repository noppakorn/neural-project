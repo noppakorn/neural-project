{
 "cells": [
  {
   "attachments": {},
   "cell_type": "markdown",
   "metadata": {},
   "source": [
    "# Traffy Fondue Problem Report Classification"
   ]
  },
  {
   "attachments": {},
   "cell_type": "markdown",
   "metadata": {},
   "source": [
    "## Setup"
   ]
  },
  {
   "cell_type": "code",
   "execution_count": 1,
   "metadata": {},
   "outputs": [],
   "source": [
    "# !pip install pandas torch torchtext torchmetrics pythainlp pytorch_lightning wandb scikit-learn matplotlib"
   ]
  },
  {
   "cell_type": "code",
   "execution_count": 2,
   "metadata": {},
   "outputs": [
    {
     "name": "stdout",
     "output_type": "stream",
     "text": [
      "env: WANDB_NOTEBOOK_NAME=\"traffy_fondue_classification.ipynb\"\n"
     ]
    }
   ],
   "source": [
    "%env WANDB_NOTEBOOK_NAME=\"traffy_fondue_classification.ipynb\""
   ]
  },
  {
   "cell_type": "code",
   "execution_count": 3,
   "metadata": {},
   "outputs": [
    {
     "name": "stderr",
     "output_type": "stream",
     "text": [
      "\u001b[34m\u001b[1mwandb\u001b[0m: \u001b[33mWARNING\u001b[0m WANDB_NOTEBOOK_NAME should be a path to a notebook file, couldn't find \"traffy_fondue_classification.ipynb\".\n",
      "\u001b[34m\u001b[1mwandb\u001b[0m: Currently logged in as: \u001b[33mnoppakorn\u001b[0m (\u001b[33mmeen\u001b[0m). Use \u001b[1m`wandb login --relogin`\u001b[0m to force relogin\n"
     ]
    },
    {
     "data": {
      "text/plain": [
       "True"
      ]
     },
     "execution_count": 3,
     "metadata": {},
     "output_type": "execute_result"
    }
   ],
   "source": [
    "# Logger\n",
    "import wandb\n",
    "wandb.login()"
   ]
  },
  {
   "cell_type": "code",
   "execution_count": 4,
   "metadata": {},
   "outputs": [
    {
     "name": "stderr",
     "output_type": "stream",
     "text": [
      "Global seed set to 42\n"
     ]
    },
    {
     "data": {
      "text/plain": [
       "42"
      ]
     },
     "execution_count": 4,
     "metadata": {},
     "output_type": "execute_result"
    }
   ],
   "source": [
    "import pandas as pd\n",
    "import matplotlib.pyplot as plt\n",
    "\n",
    "import sklearn\n",
    "import sklearn.model_selection\n",
    "import torchmetrics\n",
    "\n",
    "from pythainlp.tokenize import word_tokenize\n",
    "\n",
    "import torch\n",
    "from torch import optim, nn\n",
    "from torchtext.vocab import build_vocab_from_iterator\n",
    "from torch.utils.data import Dataset, DataLoader\n",
    "\n",
    "import pytorch_lightning as pl\n",
    "from pytorch_lightning import Trainer, seed_everything\n",
    "from pytorch_lightning.loggers import WandbLogger\n",
    "\n",
    "seed = 42  # The answer to everything\n",
    "seed_everything(seed, workers=True)"
   ]
  },
  {
   "attachments": {},
   "cell_type": "markdown",
   "metadata": {},
   "source": [
    "## Dataset"
   ]
  },
  {
   "cell_type": "code",
   "execution_count": 5,
   "metadata": {},
   "outputs": [
    {
     "data": {
      "text/html": [
       "<div>\n",
       "<style scoped>\n",
       "    .dataframe tbody tr th:only-of-type {\n",
       "        vertical-align: middle;\n",
       "    }\n",
       "\n",
       "    .dataframe tbody tr th {\n",
       "        vertical-align: top;\n",
       "    }\n",
       "\n",
       "    .dataframe thead th {\n",
       "        text-align: right;\n",
       "    }\n",
       "</style>\n",
       "<table border=\"1\" class=\"dataframe\">\n",
       "  <thead>\n",
       "    <tr style=\"text-align: right;\">\n",
       "      <th></th>\n",
       "      <th>tag</th>\n",
       "      <th>text</th>\n",
       "    </tr>\n",
       "  </thead>\n",
       "  <tbody>\n",
       "    <tr>\n",
       "      <th>0</th>\n",
       "      <td>ถนน</td>\n",
       "      <td>[มี, น้ำซึม, ออกมา, บริเวณ, ถนน,  , ทำให้, มี,...</td>\n",
       "    </tr>\n",
       "    <tr>\n",
       "      <th>1</th>\n",
       "      <td>ท่อระบายน้ำ</td>\n",
       "      <td>[ท่อน้ำ, แตก,  , น้ำ, ผุด, ไหล, ตลอด]</td>\n",
       "    </tr>\n",
       "    <tr>\n",
       "      <th>2</th>\n",
       "      <td>ท่อระบายน้ำ</td>\n",
       "      <td>[ฝ่า, ท่อ, ชำรุด]</td>\n",
       "    </tr>\n",
       "    <tr>\n",
       "      <th>3</th>\n",
       "      <td>ท่อระบายน้ำ</td>\n",
       "      <td>[ฝา, ท่อ, ชำรุด]</td>\n",
       "    </tr>\n",
       "    <tr>\n",
       "      <th>4</th>\n",
       "      <td>จราจร</td>\n",
       "      <td>[ตำรวจ, ไม่, จับ, มอ, ไซ, ย้อนศร,  , วิน, มอ, ...</td>\n",
       "    </tr>\n",
       "    <tr>\n",
       "      <th>...</th>\n",
       "      <td>...</td>\n",
       "      <td>...</td>\n",
       "    </tr>\n",
       "    <tr>\n",
       "      <th>67177</th>\n",
       "      <td>ความสะอาด</td>\n",
       "      <td>[ช่วย, เก็บ, ขยะ, หน่อย, ครับ]</td>\n",
       "    </tr>\n",
       "    <tr>\n",
       "      <th>67178</th>\n",
       "      <td>ถนน</td>\n",
       "      <td>[ศูนย์, เรื่องราว, ร้องทุกข์,  , ได้รับ, การ, ...</td>\n",
       "    </tr>\n",
       "    <tr>\n",
       "      <th>67179</th>\n",
       "      <td>ทางเท้า</td>\n",
       "      <td>[มี, การ, ขาย, น้ำ, กระท่อม,  , และ, กัญชา, เป...</td>\n",
       "    </tr>\n",
       "    <tr>\n",
       "      <th>67180</th>\n",
       "      <td>ถนน</td>\n",
       "      <td>[ปัญหา,  , :,  , :,  , ประชาชน, ต้องการ, ให้, ...</td>\n",
       "    </tr>\n",
       "    <tr>\n",
       "      <th>67181</th>\n",
       "      <td>ความสะอาด</td>\n",
       "      <td>[อยาก, ให้, หน่วยงาน, ที่, ดูแลรักษา, ความสะอา...</td>\n",
       "    </tr>\n",
       "  </tbody>\n",
       "</table>\n",
       "<p>67182 rows × 2 columns</p>\n",
       "</div>"
      ],
      "text/plain": [
       "               tag                                               text\n",
       "0              ถนน  [มี, น้ำซึม, ออกมา, บริเวณ, ถนน,  , ทำให้, มี,...\n",
       "1      ท่อระบายน้ำ              [ท่อน้ำ, แตก,  , น้ำ, ผุด, ไหล, ตลอด]\n",
       "2      ท่อระบายน้ำ                                  [ฝ่า, ท่อ, ชำรุด]\n",
       "3      ท่อระบายน้ำ                                   [ฝา, ท่อ, ชำรุด]\n",
       "4            จราจร  [ตำรวจ, ไม่, จับ, มอ, ไซ, ย้อนศร,  , วิน, มอ, ...\n",
       "...            ...                                                ...\n",
       "67177    ความสะอาด                     [ช่วย, เก็บ, ขยะ, หน่อย, ครับ]\n",
       "67178          ถนน  [ศูนย์, เรื่องราว, ร้องทุกข์,  , ได้รับ, การ, ...\n",
       "67179      ทางเท้า  [มี, การ, ขาย, น้ำ, กระท่อม,  , และ, กัญชา, เป...\n",
       "67180          ถนน  [ปัญหา,  , :,  , :,  , ประชาชน, ต้องการ, ให้, ...\n",
       "67181    ความสะอาด  [อยาก, ให้, หน่วยงาน, ที่, ดูแลรักษา, ความสะอา...\n",
       "\n",
       "[67182 rows x 2 columns]"
      ]
     },
     "execution_count": 5,
     "metadata": {},
     "output_type": "execute_result"
    }
   ],
   "source": [
    "df = pd.read_csv(\"./traffy-data-2023.csv\")\n",
    "df = df.loc[:, [\"type\", \"comment\"]]\n",
    "\n",
    "df = df.rename({\"comment\": \"text\", \"type\": \"tag\"}, axis=1)\n",
    "\n",
    "# Data cleansing\n",
    "\n",
    "# Clean the tag\n",
    "def clean_tag(tag: str) -> str:\n",
    "    tag = tag[1:-1]\n",
    "    tag = tag.split(\",\")\n",
    "\n",
    "    if len(tag) == 0:\n",
    "        return \"Unknown\"\n",
    "\n",
    "    if tag[0] == \"ร้องเรียน\" and len(tag) > 1:\n",
    "        return tag[1]\n",
    "    return tag[0]\n",
    "\n",
    "df.loc[:, \"tag\"] = df.loc[:, \"tag\"].apply(clean_tag)\n",
    "df = df[~(df.loc[:, \"tag\"].isin({\"Unknown\", \"\", \"ร้องเรียน\"}))]\n",
    "\n",
    "# Use only tag with >= 1000 reports\n",
    "tags = df.loc[:, \"tag\"].value_counts()\n",
    "tags = tags[(tags.values >= 1000)]\n",
    "df = df[df.loc[:, \"tag\"].isin(tags.keys())]\n",
    "\n",
    "def clean_text(text):\n",
    "    return word_tokenize(text, engine=\"newmm\")\n",
    "\n",
    "df.loc[:, \"text\"] = df.loc[:, \"text\"].apply(clean_text)\n",
    "\n",
    "df = df.reset_index(drop=True)\n",
    "\n",
    "df"
   ]
  },
  {
   "cell_type": "code",
   "execution_count": 6,
   "metadata": {},
   "outputs": [
    {
     "name": "stdout",
     "output_type": "stream",
     "text": [
      "Tags Statistics\n",
      "tag\n",
      "ถนน            24471\n",
      "ทางเท้า         7750\n",
      "ความสะอาด       5983\n",
      "แสงสว่าง        5108\n",
      "กีดขวาง         4269\n",
      "ความปลอดภัย     3404\n",
      "ป้าย            2863\n",
      "เสียงรบกวน      2705\n",
      "ท่อระบายน้ำ     2547\n",
      "จราจร           2073\n",
      "ต้นไม้          1933\n",
      "สะพาน           1823\n",
      "สัตว์จรจัด      1201\n",
      "สายไฟ           1052\n",
      "Name: count, dtype: int64\n",
      "---\n",
      "Text Statistics\n",
      "Max words per sentence 2492\n",
      "Average words per sentence 57.73838230478402\n"
     ]
    }
   ],
   "source": [
    "print(\"Tags Statistics\")\n",
    "print(df.tag.value_counts())\n",
    "\n",
    "\n",
    "print(\"---\")\n",
    "print(\"Text Statistics\")\n",
    "print(\"Max words per sentence\", df.text.apply(len).max())\n",
    "print(\"Average words per sentence\", df.text.apply(len).mean())"
   ]
  },
  {
   "cell_type": "code",
   "execution_count": 7,
   "metadata": {},
   "outputs": [],
   "source": [
    "def yield_tokens(sentences_tokenized):\n",
    "    for word in sentences_tokenized:\n",
    "        yield word\n",
    "\n",
    "\n",
    "vocab = build_vocab_from_iterator(yield_tokens(df.text.tolist()), specials=[\"<unk>\", \"<pad>\"])\n",
    "vocab.set_default_index(vocab[\"<unk>\"])"
   ]
  },
  {
   "cell_type": "code",
   "execution_count": 8,
   "metadata": {},
   "outputs": [],
   "source": [
    "tag_to_idx = {j:i for i, j in enumerate(tags.keys())}\n",
    "idx_to_tag = {j:i for i, j in tag_to_idx.items()}"
   ]
  },
  {
   "cell_type": "code",
   "execution_count": 9,
   "metadata": {},
   "outputs": [],
   "source": [
    "class TraffyDataset(Dataset):\n",
    "    def __init__(self, sentences_tokenized, tag, vocab, tag_to_idx, pad_length=256):\n",
    "        self.sentences_tokenized = sentences_tokenized\n",
    "        self.tag = tag\n",
    "        self.vocab = vocab\n",
    "        self.tag_to_idx = tag_to_idx\n",
    "\n",
    "        self.pad_length = pad_length\n",
    "        self.padding_index = self.vocab[\"<pad>\"]\n",
    "\n",
    "    def __len__(self):\n",
    "        return len(self.sentences_tokenized)\n",
    "\n",
    "    def __getitem__(self, idx):\n",
    "        tokens = self.vocab(self.sentences_tokenized[idx])\n",
    "        sentence_encoded = torch.LongTensor(tokens[:self.pad_length])\n",
    "\n",
    "        pad = nn.ConstantPad1d(\n",
    "            (0, self.pad_length - len(sentence_encoded)), self.padding_index)\n",
    "        sentence_encoded = pad(sentence_encoded)\n",
    "\n",
    "        tag_encoded = torch.tensor(tag_to_idx[self.tag[idx]])\n",
    "        return sentence_encoded, tag_encoded"
   ]
  },
  {
   "cell_type": "code",
   "execution_count": 10,
   "metadata": {},
   "outputs": [],
   "source": [
    "class TraffyModel(pl.LightningModule):\n",
    "    def __init__(self, vocab_len, class_count, config):\n",
    "        super().__init__()\n",
    "        self.config = config\n",
    "\n",
    "        self.embedding = nn.Embedding(\n",
    "            vocab_len, self.config[\"embedding_dim\"])\n",
    "\n",
    "        # self.dropout = nn.Dropout(p=self.config[\"dropout_rate\"])\n",
    "        self.lstm = nn.LSTM(\n",
    "            self.config[\"embedding_dim\"], self.config[\"lstm_hidden_size\"], batch_first=True)\n",
    "\n",
    "        self.classifier = nn.Linear(\n",
    "            self.config[\"lstm_hidden_size\"], class_count)\n",
    "\n",
    "        self.criterion = nn.CrossEntropyLoss()\n",
    "\n",
    "        self.accuracy = torchmetrics.Accuracy(\n",
    "            task=\"multiclass\", num_classes=class_count)\n",
    "        self.f1 = torchmetrics.F1Score(\n",
    "            task=\"multiclass\", average=\"macro\", num_classes=class_count)\n",
    "\n",
    "    def training_step(self, batch, batch_idx):\n",
    "        tokens, labels = batch\n",
    "        x = self.embedding(tokens)\n",
    "        _, (x, _) = self.lstm(x)\n",
    "        x = torch.flatten(x, start_dim=0, end_dim=1)\n",
    "        x = self.classifier(x)\n",
    "\n",
    "        loss = self.criterion(x, labels)\n",
    "\n",
    "        self.log(\"loss\", loss)\n",
    "        return loss\n",
    "\n",
    "    def validation_step(self, batch, batch_idx):\n",
    "        tokens, labels = batch\n",
    "        x = self.embedding(tokens)\n",
    "        _, (x, _) = self.lstm(x)\n",
    "        x = torch.flatten(x, start_dim=0, end_dim=1)\n",
    "        x = self.classifier(x)\n",
    "\n",
    "        val_loss = self.criterion(x, labels)\n",
    "\n",
    "        self.log(\"val_loss\", val_loss)\n",
    "\n",
    "        val_acc = self.accuracy(x, labels)\n",
    "        self.log('val_acc', val_acc, on_epoch=True)\n",
    "        val_f1 = self.f1(x, labels)\n",
    "        self.log('val_f1', val_f1, on_epoch=True)\n",
    "\n",
    "    def forward(self, tokens):\n",
    "        x = self.embedding(tokens)\n",
    "        _, (x, _) = self.lstm(x)\n",
    "        x = torch.flatten(x, start_dim=0, end_dim=1)\n",
    "        x = self.classifier(x)\n",
    "\n",
    "        return x\n",
    "\n",
    "    def configure_optimizers(self):\n",
    "        optimizer = optim.Adam(\n",
    "            self.parameters(), lr=self.config[\"lr\"])\n",
    "        return optimizer"
   ]
  },
  {
   "cell_type": "code",
   "execution_count": 11,
   "metadata": {},
   "outputs": [],
   "source": [
    "config = {\n",
    "    \"epochs\": 10,\n",
    "    \"lr\": 0.001,\n",
    "    \"embedding_dim\": 300,\n",
    "    \"lstm_hidden_size\": 128,\n",
    "    \"batch_size\": 128,\n",
    "}"
   ]
  },
  {
   "cell_type": "code",
   "execution_count": 12,
   "metadata": {},
   "outputs": [],
   "source": [
    "tags_list = df.loc[:, \"tag\"].tolist()\n",
    "X_train, X_test, y_train, y_test = sklearn.model_selection.train_test_split(df.loc[:, \"text\"].tolist(), tags_list, stratify=tags_list, test_size=0.2, random_state=seed)"
   ]
  },
  {
   "cell_type": "code",
   "execution_count": 13,
   "metadata": {},
   "outputs": [],
   "source": [
    "train_dataset = TraffyDataset(X_train, y_train, vocab, tag_to_idx)\n",
    "val_dataset = TraffyDataset(X_test, y_test, vocab, tag_to_idx)\n",
    "train_dataloader = DataLoader(train_dataset, batch_size=config[\"batch_size\"], num_workers=16)\n",
    "val_dataloader = DataLoader(val_dataset, batch_size=config[\"batch_size\"], num_workers=16)"
   ]
  },
  {
   "cell_type": "code",
   "execution_count": 14,
   "metadata": {},
   "outputs": [],
   "source": [
    "model = TraffyModel(vocab_len=len(vocab), class_count=len(tag_to_idx), config=config)"
   ]
  },
  {
   "cell_type": "code",
   "execution_count": 15,
   "metadata": {},
   "outputs": [
    {
     "data": {
      "text/html": [
       "wandb version 0.15.3 is available!  To upgrade, please run:\n",
       " $ pip install wandb --upgrade"
      ],
      "text/plain": [
       "<IPython.core.display.HTML object>"
      ]
     },
     "metadata": {},
     "output_type": "display_data"
    },
    {
     "data": {
      "text/html": [
       "Tracking run with wandb version 0.15.2"
      ],
      "text/plain": [
       "<IPython.core.display.HTML object>"
      ]
     },
     "metadata": {},
     "output_type": "display_data"
    },
    {
     "data": {
      "text/html": [
       "Run data is saved locally in <code>./wandb/run-20230518_141923-cds3xb95</code>"
      ],
      "text/plain": [
       "<IPython.core.display.HTML object>"
      ]
     },
     "metadata": {},
     "output_type": "display_data"
    },
    {
     "data": {
      "text/html": [
       "Syncing run <strong><a href='https://wandb.ai/meen/traffy-fondue-classification/runs/cds3xb95' target=\"_blank\">copper-paper-2</a></strong> to <a href='https://wandb.ai/meen/traffy-fondue-classification' target=\"_blank\">Weights & Biases</a> (<a href='https://wandb.me/run' target=\"_blank\">docs</a>)<br/>"
      ],
      "text/plain": [
       "<IPython.core.display.HTML object>"
      ]
     },
     "metadata": {},
     "output_type": "display_data"
    },
    {
     "data": {
      "text/html": [
       " View project at <a href='https://wandb.ai/meen/traffy-fondue-classification' target=\"_blank\">https://wandb.ai/meen/traffy-fondue-classification</a>"
      ],
      "text/plain": [
       "<IPython.core.display.HTML object>"
      ]
     },
     "metadata": {},
     "output_type": "display_data"
    },
    {
     "data": {
      "text/html": [
       " View run at <a href='https://wandb.ai/meen/traffy-fondue-classification/runs/cds3xb95' target=\"_blank\">https://wandb.ai/meen/traffy-fondue-classification/runs/cds3xb95</a>"
      ],
      "text/plain": [
       "<IPython.core.display.HTML object>"
      ]
     },
     "metadata": {},
     "output_type": "display_data"
    }
   ],
   "source": [
    "wandb_logger = WandbLogger(project=\"traffy-fondue-classification\")"
   ]
  },
  {
   "cell_type": "code",
   "execution_count": 16,
   "metadata": {},
   "outputs": [
    {
     "name": "stderr",
     "output_type": "stream",
     "text": [
      "GPU available: True (cuda), used: True\n",
      "TPU available: False, using: 0 TPU cores\n",
      "IPU available: False, using: 0 IPUs\n",
      "HPU available: False, using: 0 HPUs\n"
     ]
    }
   ],
   "source": [
    "# Normal Training\n",
    "# trainer = Trainer(\n",
    "#     logger=logger, min_epochs=config[\"epochs\"], max_epochs=config[\"epochs\"])\n",
    "\n",
    "# Training using gpu\n",
    "trainer = Trainer(accelerator=\"gpu\", devices=1, deterministic=True, logger=wandb_logger,\n",
    "                  min_epochs=config[\"epochs\"], max_epochs=config[\"epochs\"])\n",
    "\n"
   ]
  },
  {
   "cell_type": "code",
   "execution_count": 17,
   "metadata": {},
   "outputs": [
    {
     "name": "stderr",
     "output_type": "stream",
     "text": [
      "LOCAL_RANK: 0 - CUDA_VISIBLE_DEVICES: [0]\n",
      "\n",
      "  | Name       | Type               | Params\n",
      "--------------------------------------------------\n",
      "0 | embedding  | Embedding          | 9.6 M \n",
      "1 | lstm       | LSTM               | 220 K \n",
      "2 | classifier | Linear             | 1.8 K \n",
      "3 | criterion  | CrossEntropyLoss   | 0     \n",
      "4 | accuracy   | MulticlassAccuracy | 0     \n",
      "5 | f1         | MulticlassF1Score  | 0     \n",
      "--------------------------------------------------\n",
      "9.8 M     Trainable params\n",
      "0         Non-trainable params\n",
      "9.8 M     Total params\n",
      "39.253    Total estimated model params size (MB)\n"
     ]
    },
    {
     "name": "stdout",
     "output_type": "stream",
     "text": [
      "Epoch 9: 100%|██████████| 420/420 [02:09<00:00,  3.23it/s, v_num=xb95]     "
     ]
    },
    {
     "name": "stderr",
     "output_type": "stream",
     "text": [
      "`Trainer.fit` stopped: `max_epochs=10` reached.\n"
     ]
    },
    {
     "name": "stdout",
     "output_type": "stream",
     "text": [
      "Epoch 9: 100%|██████████| 420/420 [02:10<00:00,  3.23it/s, v_num=xb95]\n"
     ]
    }
   ],
   "source": [
    "trainer.fit(model=model, train_dataloaders=train_dataloader, val_dataloaders=val_dataloader)"
   ]
  },
  {
   "cell_type": "code",
   "execution_count": 18,
   "metadata": {},
   "outputs": [
    {
     "name": "stderr",
     "output_type": "stream",
     "text": [
      "LOCAL_RANK: 0 - CUDA_VISIBLE_DEVICES: [0]\n"
     ]
    },
    {
     "name": "stdout",
     "output_type": "stream",
     "text": [
      "Running the model on the validation set after the last epoch\n",
      "Validation DataLoader 0: 100%|██████████| 105/105 [00:07<00:00, 14.78it/s]\n",
      "────────────────────────────────────────────────────────────────────────────────────────────────────────────────────────\n",
      "Runningstage.validating metric      DataLoader 0\n",
      "────────────────────────────────────────────────────────────────────────────────────────────────────────────────────────\n",
      "         val_acc            0.7718985080718994\n",
      "         val_f1             0.7046502828598022\n",
      "        val_loss            0.7524833083152771\n",
      "────────────────────────────────────────────────────────────────────────────────────────────────────────────────────────\n",
      "Accuracy on validation set: 0.7719\n",
      "Accuracy on validation set: 0.7047\n"
     ]
    }
   ],
   "source": [
    "print(\"Running the model on the validation set after the last epoch\")\n",
    "res = trainer.validate(model, dataloaders=val_dataloader)\n",
    "print(f\"Accuracy on validation set: {res[0]['val_acc']:.04f}\")\n",
    "print(f\"Accuracy on validation set: {res[0]['val_f1']:.04f}\")"
   ]
  },
  {
   "cell_type": "code",
   "execution_count": 19,
   "metadata": {},
   "outputs": [],
   "source": [
    "class TraffyDatasetForPrediction(Dataset):\n",
    "    def __init__(self, sentences_tokenized, vocab, pad_length=256):\n",
    "        self.sentences_tokenized = sentences_tokenized\n",
    "        self.vocab = vocab\n",
    "\n",
    "        self.pad_length = pad_length\n",
    "        self.padding_index = self.vocab[\"<pad>\"]\n",
    "\n",
    "    def __len__(self):\n",
    "        return len(self.sentences_tokenized)\n",
    "\n",
    "    def __getitem__(self, idx):\n",
    "        tokens = self.vocab(self.sentences_tokenized[idx])\n",
    "        sentence_encoded = torch.LongTensor(tokens[:self.pad_length])\n",
    "\n",
    "        pad = nn.ConstantPad1d(\n",
    "            (0, self.pad_length - len(sentence_encoded)), self.padding_index)\n",
    "        sentence_encoded = pad(sentence_encoded)\n",
    "\n",
    "        return sentence_encoded"
   ]
  },
  {
   "attachments": {},
   "cell_type": "markdown",
   "metadata": {},
   "source": [
    "## Prediction on validation set"
   ]
  },
  {
   "cell_type": "code",
   "execution_count": 20,
   "metadata": {},
   "outputs": [],
   "source": [
    "predict_dataset = TraffyDatasetForPrediction(X_test, vocab)\n",
    "predict_dataloader = DataLoader(predict_dataset, batch_size=config[\"batch_size\"], num_workers=16)"
   ]
  },
  {
   "cell_type": "code",
   "execution_count": 21,
   "metadata": {},
   "outputs": [
    {
     "name": "stderr",
     "output_type": "stream",
     "text": [
      "LOCAL_RANK: 0 - CUDA_VISIBLE_DEVICES: [0]\n"
     ]
    },
    {
     "name": "stdout",
     "output_type": "stream",
     "text": [
      "Predicting DataLoader 0: 100%|██████████| 105/105 [00:06<00:00, 15.13it/s]\n"
     ]
    }
   ],
   "source": [
    "pred = trainer.predict(model, dataloaders=predict_dataloader)\n",
    "pred = torch.cat(pred)"
   ]
  },
  {
   "cell_type": "code",
   "execution_count": 22,
   "metadata": {},
   "outputs": [],
   "source": [
    "y_pred = pred.argmax(dim=1).cpu().detach().tolist()\n",
    "\n",
    "prediction_class = [idx_to_tag[i] for i in y_pred]"
   ]
  },
  {
   "cell_type": "code",
   "execution_count": 23,
   "metadata": {},
   "outputs": [],
   "source": [
    "y_test_idx = [tag_to_idx[i] for i in y_test]"
   ]
  },
  {
   "cell_type": "code",
   "execution_count": 24,
   "metadata": {},
   "outputs": [
    {
     "name": "stdout",
     "output_type": "stream",
     "text": [
      "              precision    recall  f1-score   support\n",
      "\n",
      "         ถนน       0.81      0.82      0.81      4894\n",
      "     ทางเท้า       0.86      0.74      0.80      1550\n",
      "   ความสะอาด       0.84      0.78      0.81      1197\n",
      "    แสงสว่าง       0.70      0.81      0.75      1022\n",
      "     กีดขวาง       0.78      0.74      0.76       854\n",
      " ความปลอดภัย       0.61      0.61      0.61       681\n",
      "        ป้าย       0.83      0.75      0.78       573\n",
      "  เสียงรบกวน       0.71      0.79      0.75       541\n",
      " ท่อระบายน้ำ       0.79      0.77      0.78       509\n",
      "       จราจร       0.52      0.69      0.59       415\n",
      "      ต้นไม้       0.73      0.82      0.77       387\n",
      "       สะพาน       0.66      0.60      0.63       364\n",
      "  สัตว์จรจัด       0.71      0.78      0.74       240\n",
      "       สายไฟ       0.90      0.69      0.78       210\n",
      "\n",
      "    accuracy                           0.77     13437\n",
      "   macro avg       0.75      0.74      0.74     13437\n",
      "weighted avg       0.78      0.77      0.77     13437\n",
      "\n"
     ]
    }
   ],
   "source": [
    "print(sklearn.metrics.classification_report(y_test_idx, y_pred, target_names=list(tag_to_idx.keys())))"
   ]
  },
  {
   "cell_type": "code",
   "execution_count": 25,
   "metadata": {},
   "outputs": [
    {
     "data": {
      "text/html": [
       "<div>\n",
       "<style scoped>\n",
       "    .dataframe tbody tr th:only-of-type {\n",
       "        vertical-align: middle;\n",
       "    }\n",
       "\n",
       "    .dataframe tbody tr th {\n",
       "        vertical-align: top;\n",
       "    }\n",
       "\n",
       "    .dataframe thead th {\n",
       "        text-align: right;\n",
       "    }\n",
       "</style>\n",
       "<table border=\"1\" class=\"dataframe\">\n",
       "  <thead>\n",
       "    <tr style=\"text-align: right;\">\n",
       "      <th></th>\n",
       "      <th>0</th>\n",
       "      <th>1</th>\n",
       "      <th>2</th>\n",
       "      <th>3</th>\n",
       "      <th>4</th>\n",
       "      <th>5</th>\n",
       "      <th>6</th>\n",
       "      <th>7</th>\n",
       "      <th>8</th>\n",
       "      <th>9</th>\n",
       "      <th>10</th>\n",
       "      <th>11</th>\n",
       "      <th>12</th>\n",
       "      <th>13</th>\n",
       "    </tr>\n",
       "  </thead>\n",
       "  <tbody>\n",
       "    <tr>\n",
       "      <th>Tag</th>\n",
       "      <td>ถนน</td>\n",
       "      <td>ทางเท้า</td>\n",
       "      <td>ความสะอาด</td>\n",
       "      <td>แสงสว่าง</td>\n",
       "      <td>กีดขวาง</td>\n",
       "      <td>ความปลอดภัย</td>\n",
       "      <td>ป้าย</td>\n",
       "      <td>เสียงรบกวน</td>\n",
       "      <td>ท่อระบายน้ำ</td>\n",
       "      <td>จราจร</td>\n",
       "      <td>ต้นไม้</td>\n",
       "      <td>สะพาน</td>\n",
       "      <td>สัตว์จรจัด</td>\n",
       "      <td>สายไฟ</td>\n",
       "    </tr>\n",
       "  </tbody>\n",
       "</table>\n",
       "</div>"
      ],
      "text/plain": [
       "      0        1          2         3        4            5     6    \n",
       "Tag  ถนน  ทางเท้า  ความสะอาด  แสงสว่าง  กีดขวาง  ความปลอดภัย  ป้าย  \\\n",
       "\n",
       "             7            8      9       10     11          12     13  \n",
       "Tag  เสียงรบกวน  ท่อระบายน้ำ  จราจร  ต้นไม้  สะพาน  สัตว์จรจัด  สายไฟ  "
      ]
     },
     "execution_count": 25,
     "metadata": {},
     "output_type": "execute_result"
    }
   ],
   "source": [
    "pd.DataFrame(tag_to_idx.keys(), columns=[\"Tag\"]).T"
   ]
  },
  {
   "cell_type": "code",
   "execution_count": 26,
   "metadata": {},
   "outputs": [
    {
     "data": {
      "image/png": "[encoded data removed]",
      "text/plain": [
       "<Figure size 1000x1000 with 2 Axes>"
      ]
     },
     "metadata": {},
     "output_type": "display_data"
    }
   ],
   "source": [
    "fig, ax = plt.subplots(figsize=(10, 10))\n",
    "ax.set_title(\"Normalized Confusion Matrix (%)\")\n",
    "confusion_matrix = sklearn.metrics.confusion_matrix(y_test_idx, y_pred, normalize=\"true\") * 100\n",
    "disp = sklearn.metrics.ConfusionMatrixDisplay(confusion_matrix)\n",
    "disp.plot(ax=ax)\n",
    "plt.show()"
   ]
  },
  {
   "attachments": {},
   "cell_type": "markdown",
   "metadata": {},
   "source": [
    "## Show random result from validation set"
   ]
  },
  {
   "cell_type": "code",
   "execution_count": 27,
   "metadata": {},
   "outputs": [
    {
     "name": "stdout",
     "output_type": "stream",
     "text": [
      "Input Sentence #9655\n",
      "จยย วิ่งบนทางเท้า\n",
      "---\n",
      "Label: ทางเท้า\n",
      "Predicted ทางเท้า\n"
     ]
    }
   ],
   "source": [
    "idx = torch.randint(len(prediction_class), (1,)).item()\n",
    "print(f\"Input Sentence #{idx}\")\n",
    "print(\"\".join(X_test[idx]))\n",
    "print(\"---\")\n",
    "print(f\"Label: {y_test[idx]}\")\n",
    "print(f\"Predicted {prediction_class[idx]}\")"
   ]
  }
 ],
 "metadata": {
  "kernelspec": {
   "display_name": "nlp-course",
   "language": "python",
   "name": "python3"
  },
  "language_info": {
   "codemirror_mode": {
    "name": "ipython",
    "version": 3
   },
   "file_extension": ".py",
   "mimetype": "text/x-python",
   "name": "python",
   "nbconvert_exporter": "python",
   "pygments_lexer": "ipython3",
   "version": "3.11.3"
  },
  "orig_nbformat": 4
 },
 "nbformat": 4,
 "nbformat_minor": 2
}
